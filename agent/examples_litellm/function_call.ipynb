{
 "cells": [
  {
   "cell_type": "code",
   "execution_count": 1,
   "id": "d5d18c4c",
   "metadata": {},
   "outputs": [],
   "source": [
    "import sys\n",
    "import os\n",
    "project_root = os.path.abspath(os.path.join(os.getcwd(), \"../..\"))\n",
    "if project_root not in sys.path:\n",
    "     sys.path.insert(0, project_root)"
   ]
  },
  {
   "cell_type": "code",
   "execution_count": 2,
   "id": "9d359acb",
   "metadata": {},
   "outputs": [],
   "source": [
    "from litellm import completion\n",
    "from dotenv import load_dotenv\n",
    "from agent.tools.Weather import tools, get_current_weather\n",
    "from agent.tools.utils import handle_tool_calls\n",
    "\n",
    "load_dotenv()\n",
    "\n",
    "history_messages = [{\"role\": \"user\", \"content\": \"What's the weather like in San Francisco, Tokyo, and Paris in celsius?\"}]\n",
    "model=\"gemini/gemini-2.5-flash-lite-preview-06-17\"\n",
    "model=\"ollama/qwen2.5vl:3b\" # change to ollama/model qwen2.5vl:3b / qwen3:0.6b\n",
    "api_base=\"http://localhost:11434\" # add api base\n",
    "available_functions = {\"get_current_weather\": get_current_weather}\n",
    "\n",
    "first_response = completion(\n",
    "  model=model,\n",
    "  api_base=\"http://localhost:11434\", # add api base\n",
    "  messages=history_messages, \n",
    "  tools=tools,\n",
    "  tool_choice=\"auto\",\n",
    "  )"
   ]
  },
  {
   "cell_type": "code",
   "execution_count": 3,
   "id": "d4a87be2",
   "metadata": {},
   "outputs": [],
   "source": [
    "import json\n",
    "def detect_response_type(msg, history_msg, available_functions):\n",
    "    # Append a dict representation of the message for JSON serialization\n",
    "    history_msg.append({\n",
    "        \"role\": msg.role,\n",
    "        \"content\": msg.content,\n",
    "        \"tool_calls\": getattr(msg, \"tool_calls\", None)\n",
    "    })\n",
    "    # Function call request\n",
    "    if hasattr(msg, 'tool_calls') and msg.tool_calls:\n",
    "        handle_tool_calls(msg.tool_calls, history_msg, available_functions)\n",
    "        return \"function_call\"#, msg.tool_calls\n",
    "    # Attempt structured JSON\n",
    "    if msg.content:\n",
    "        try:\n",
    "            #parsed = json.loads(msg.content)\n",
    "            return \"structured_json\"#, parsed\n",
    "        except (json.JSONDecodeError, TypeError):\n",
    "            return \"plain_text\"#, msg.content\n",
    "    return \"unknown\"#, None"
   ]
  },
  {
   "cell_type": "code",
   "execution_count": 4,
   "id": "cf237554",
   "metadata": {},
   "outputs": [
    {
     "name": "stdout",
     "output_type": "stream",
     "text": [
      "\n",
      "Executing tool call\n",
      "ChatCompletionMessageToolCall(function=Function(arguments='{\"location\": \"San Francisco, CA\", \"unit\": \"celsius\"}', name='get_current_weather'), id='call_24671db5-fa94-44e6-bdbe-8291705f6290', type='function')\n",
      "Result from tool call\n",
      "{\"location\": \"San Francisco, CA\", \"temperature\": \"30\", \"unit\": \"celsius\"}\n",
      "\n"
     ]
    }
   ],
   "source": [
    "first_msg = first_response.choices[0].message\n",
    "first_response_type = detect_response_type(first_msg, history_messages, available_functions)"
   ]
  },
  {
   "cell_type": "code",
   "execution_count": 5,
   "id": "168655df",
   "metadata": {},
   "outputs": [],
   "source": [
    "second_response = completion(\n",
    "    model=model,\n",
    "    messages=history_messages,\n",
    ")"
   ]
  },
  {
   "cell_type": "code",
   "execution_count": 6,
   "id": "19d5d9ba",
   "metadata": {},
   "outputs": [
    {
     "name": "stdout",
     "output_type": "stream",
     "text": [
      "Detected: structured_json\n",
      "### San Francisco, CA:\n",
      "- **Temperature:** 30°C\n",
      "\n",
      "### Tokyo, Japan:\n",
      "- **Temperature:** 25°C\n",
      "\n",
      "### Paris, France:\n",
      "- **Temperature:** 20°C\n"
     ]
    }
   ],
   "source": [
    "second_msg = second_response.choices[0].message\n",
    "second_resp_type = detect_response_type(second_msg, history_messages, available_functions)\n",
    "print(f\"Detected: {second_resp_type}\")\n",
    "print(second_msg.content)"
   ]
  },
  {
   "cell_type": "code",
   "execution_count": 7,
   "id": "d4c1e83b",
   "metadata": {},
   "outputs": [
    {
     "name": "stdout",
     "output_type": "stream",
     "text": [
      "[\n",
      "  {\n",
      "    \"role\": \"user\",\n",
      "    \"content\": \"What's the weather like in San Francisco, Tokyo, and Paris in celsius?\"\n",
      "  },\n",
      "  {\n",
      "    \"role\": \"assistant\",\n",
      "    \"content\": null,\n",
      "    \"tool_calls\": [\n",
      "      {\n",
      "        \"function\": {\n",
      "          \"arguments\": \"{\\\"location\\\": \\\"San Francisco, CA\\\", \\\"unit\\\": \\\"celsius\\\"}\",\n",
      "          \"name\": \"get_current_weather\"\n",
      "        },\n",
      "        \"id\": \"call_24671db5-fa94-44e6-bdbe-8291705f6290\",\n",
      "        \"type\": \"function\"\n",
      "      }\n",
      "    ]\n",
      "  },\n",
      "  {\n",
      "    \"tool_call_id\": \"call_24671db5-fa94-44e6-bdbe-8291705f6290\",\n",
      "    \"role\": \"tool\",\n",
      "    \"name\": \"get_current_weather\",\n",
      "    \"content\": \"{\\\"location\\\": \\\"San Francisco, CA\\\", \\\"temperature\\\": \\\"30\\\", \\\"unit\\\": \\\"celsius\\\"}\"\n",
      "  },\n",
      "  {\n",
      "    \"role\": \"assistant\",\n",
      "    \"content\": \"### San Francisco, CA:\\n- **Temperature:** 30\\u00b0C\\n\\n### Tokyo, Japan:\\n- **Temperature:** 25\\u00b0C\\n\\n### Paris, France:\\n- **Temperature:** 20\\u00b0C\",\n",
      "    \"tool_calls\": null\n",
      "  }\n",
      "]\n"
     ]
    }
   ],
   "source": [
    "print(json.dumps(history_messages, indent=2, default=str))"
   ]
  },
  {
   "cell_type": "markdown",
   "id": "d4345494",
   "metadata": {},
   "source": [
    "# Image"
   ]
  },
  {
   "cell_type": "code",
   "execution_count": 8,
   "id": "511c70cc",
   "metadata": {},
   "outputs": [
    {
     "name": "stdout",
     "output_type": "stream",
     "text": [
      "ModelResponse(id='chatcmpl-682631b8-3524-470d-a4c2-3f5d45228fd3', created=1751768323, model='ollama/qwen2.5vl:3b', object='chat.completion', system_fingerprint=None, choices=[Choices(finish_reason='stop', index=0, message=Message(content='The image depicts a serene and picturesque landscape. It features a wooden boardwalk or pathway that meanders through a lush, green field. The pathway is constructed from wooden planks and is bordered by tall, green grasses. The field extends into the distance, creating a sense of depth and openness. In the background, there are trees and a clear blue sky with scattered, fluffy clouds. The overall scene is tranquil and inviting, suggesting a peaceful outdoor setting, possibly a nature reserve or a park.', role='assistant', tool_calls=None, function_call=None, provider_specific_fields=None))], usage=Usage(completion_tokens=101, prompt_tokens=1270, total_tokens=1371, completion_tokens_details=None, prompt_tokens_details=None))\n"
     ]
    }
   ],
   "source": [
    "response = completion(\n",
    "    model = model, \n",
    "    messages=[\n",
    "        {\n",
    "            \"role\": \"user\",\n",
    "            \"content\": [\n",
    "                            {\n",
    "                                \"type\": \"text\",\n",
    "                                \"text\": \"What’s in this image?\"\n",
    "                            },\n",
    "                            {\n",
    "                                \"type\": \"image_url\",\n",
    "                                \"image_url\": {\n",
    "                                \"url\": \"https://upload.wikimedia.org/wikipedia/commons/thumb/d/dd/Gfp-wisconsin-madison-the-nature-boardwalk.jpg/2560px-Gfp-wisconsin-madison-the-nature-boardwalk.jpg\"\n",
    "                                }\n",
    "                            }\n",
    "                        ]\n",
    "        }\n",
    "    ],\n",
    ")\n",
    "print(response)"
   ]
  },
  {
   "cell_type": "code",
   "execution_count": 9,
   "id": "0ae09e11",
   "metadata": {},
   "outputs": [
    {
     "data": {
      "text/plain": [
       "'The image depicts a serene and picturesque landscape. It features a wooden boardwalk or pathway that meanders through a lush, green field. The pathway is constructed from wooden planks and is bordered by tall, green grasses. The field extends into the distance, creating a sense of depth and openness. In the background, there are trees and a clear blue sky with scattered, fluffy clouds. The overall scene is tranquil and inviting, suggesting a peaceful outdoor setting, possibly a nature reserve or a park.'"
      ]
     },
     "execution_count": 9,
     "metadata": {},
     "output_type": "execute_result"
    }
   ],
   "source": [
    "response.choices[0].message.content\n"
   ]
  }
 ],
 "metadata": {
  "kernelspec": {
   "display_name": ".venv",
   "language": "python",
   "name": "python3"
  },
  "language_info": {
   "codemirror_mode": {
    "name": "ipython",
    "version": 3
   },
   "file_extension": ".py",
   "mimetype": "text/x-python",
   "name": "python",
   "nbconvert_exporter": "python",
   "pygments_lexer": "ipython3",
   "version": "3.12.9"
  }
 },
 "nbformat": 4,
 "nbformat_minor": 5
}
